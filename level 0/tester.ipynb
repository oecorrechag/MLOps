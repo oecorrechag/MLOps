{
 "cells": [
  {
   "cell_type": "markdown",
   "metadata": {},
   "source": [
    "# Archivo para hacer pruebas de carga de modelo y predict\n",
    "\n",
    "1. Cargar librerias.\n",
    "2. Cargar datos y funciones necesarias.\n",
    "3. Cargar modelos.\n",
    "4. Realizar las pruebas"
   ]
  },
  {
   "cell_type": "code",
   "execution_count": 1,
   "metadata": {},
   "outputs": [],
   "source": [
    "import numpy as np\n",
    "import pickle"
   ]
  },
  {
   "cell_type": "code",
   "execution_count": 2,
   "metadata": {},
   "outputs": [],
   "source": [
    "scaler_min_max = {'min': np.array([ 32.1, 172. ,  13.1]), 'max': np.array([ 59.6, 231. ,  21.5])}\n",
    "scaler_std = {'mean': np.array([0.43028894, 0.49119695, 0.48097776]), 'std': np.array([0.19775223, 0.23784136, 0.23468846])}\n",
    "\n",
    "def func_transform(user_input):\n",
    "    user_input_scaled = (user_input - scaler_min_max['min']) / (scaler_min_max['max'] - scaler_min_max['min'])\n",
    "    user_input_scaled = (user_input_scaled - scaler_std['mean']) / scaler_std['std']\n",
    "    return user_input_scaled\n",
    "\n",
    "def salida_pred(predicted):\n",
    "    if(predicted[0] == 0):\n",
    "        prediction=\"Adelie Penguin (Pygoscelis adeliae)\"\n",
    "    elif(predicted[0] == 1):\n",
    "        prediction=\"Chinstrap penguin (Pygoscelis antarctica)\"\n",
    "    else:\n",
    "        prediction=\"Gentoo penguin (Pygoscelis papua)\"\n",
    "    return {\n",
    "        'Prediccion de especie': prediction\n",
    "    } "
   ]
  },
  {
   "cell_type": "code",
   "execution_count": 3,
   "metadata": {},
   "outputs": [
    {
     "name": "stdout",
     "output_type": "stream",
     "text": [
      "DecisionTreeClassifier(random_state=42)\n"
     ]
    }
   ],
   "source": [
    "with open('cl_dt.pkl', 'rb') as archivo_pkl:\n",
    "    dt = pickle.load(archivo_pkl)\n",
    "print(dt)"
   ]
  },
  {
   "cell_type": "code",
   "execution_count": 4,
   "metadata": {},
   "outputs": [
    {
     "name": "stdout",
     "output_type": "stream",
     "text": [
      "LogisticRegression(random_state=42)\n"
     ]
    }
   ],
   "source": [
    "with open('cl_lr.pkl', 'rb') as archivo_pkl:\n",
    "    lr = pickle.load(archivo_pkl)\n",
    "print(lr)"
   ]
  },
  {
   "cell_type": "markdown",
   "metadata": {},
   "source": [
    "## Pruebas"
   ]
  },
  {
   "cell_type": "code",
   "execution_count": 5,
   "metadata": {},
   "outputs": [
    {
     "name": "stdout",
     "output_type": "stream",
     "text": [
      "{'Prediccion de especie': 'Adelie Penguin (Pygoscelis adeliae)'}\n",
      "{'Prediccion de especie': 'Adelie Penguin (Pygoscelis adeliae)'}\n"
     ]
    }
   ],
   "source": [
    "user_input = [39.1, 181, 18.7]\n",
    "user_input_scaled = func_transform(user_input)\n",
    "\n",
    "print(salida_pred(dt.predict([user_input_scaled])))\n",
    "print(salida_pred(lr.predict([user_input_scaled])))"
   ]
  },
  {
   "cell_type": "code",
   "execution_count": 6,
   "metadata": {},
   "outputs": [
    {
     "name": "stdout",
     "output_type": "stream",
     "text": [
      "{'Prediccion de especie': 'Chinstrap penguin (Pygoscelis antarctica)'}\n",
      "{'Prediccion de especie': 'Chinstrap penguin (Pygoscelis antarctica)'}\n"
     ]
    }
   ],
   "source": [
    "user_input = [46.5, 192, 17.9]\n",
    "user_input_scaled = func_transform(user_input)\n",
    "\n",
    "print(salida_pred(dt.predict([user_input_scaled])))\n",
    "print(salida_pred(lr.predict([user_input_scaled])))"
   ]
  },
  {
   "cell_type": "code",
   "execution_count": 7,
   "metadata": {},
   "outputs": [
    {
     "name": "stdout",
     "output_type": "stream",
     "text": [
      "{'Prediccion de especie': 'Gentoo penguin (Pygoscelis papua)'}\n",
      "{'Prediccion de especie': 'Gentoo penguin (Pygoscelis papua)'}\n"
     ]
    }
   ],
   "source": [
    "user_input = [46.1, 211, 13.2]\n",
    "user_input_scaled = func_transform(user_input)\n",
    "\n",
    "print(salida_pred(dt.predict([user_input_scaled])))\n",
    "print(salida_pred(lr.predict([user_input_scaled])))"
   ]
  },
  {
   "cell_type": "code",
   "execution_count": 8,
   "metadata": {},
   "outputs": [
    {
     "name": "stdout",
     "output_type": "stream",
     "text": [
      "ok_\n"
     ]
    }
   ],
   "source": [
    "print('ok_')"
   ]
  }
 ],
 "metadata": {
  "kernelspec": {
   "display_name": "Python 3",
   "language": "python",
   "name": "python3"
  },
  "language_info": {
   "codemirror_mode": {
    "name": "ipython",
    "version": 3
   },
   "file_extension": ".py",
   "mimetype": "text/x-python",
   "name": "python",
   "nbconvert_exporter": "python",
   "pygments_lexer": "ipython3",
   "version": "3.12.1"
  }
 },
 "nbformat": 4,
 "nbformat_minor": 2
}
